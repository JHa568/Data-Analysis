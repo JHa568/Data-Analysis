{
 "cells": [
  {
   "cell_type": "markdown",
   "metadata": {},
   "source": [
    "# Crypto-currency Trade-in Analysis"
   ]
  },
  {
   "cell_type": "markdown",
   "metadata": {},
   "source": [
    "This analysis is to identify when to trade or buy crytocurrencies and predicting when to either buy or trade. This dataset describes the price of crypto-currencies, volume and market captalisation on a daily basis from 1/1/2016 to 10/1/2020."
   ]
  },
  {
   "cell_type": "code",
   "execution_count": 1,
   "metadata": {},
   "outputs": [],
   "source": [
    "# Python Imports\n",
    "import pandas as pd\n",
    "import seaborn as sns\n",
    "import matplotlib.pyplot as plt\n",
    "import warnings\n",
    "\n",
    "path = 'C:\\\\Users\\\\Jamie\\\\Desktop\\\\NN_Project\\\\Other projects'"
   ]
  },
  {
   "cell_type": "code",
   "execution_count": 2,
   "metadata": {},
   "outputs": [
    {
     "data": {
      "text/html": [
       "<div>\n",
       "<style scoped>\n",
       "    .dataframe tbody tr th:only-of-type {\n",
       "        vertical-align: middle;\n",
       "    }\n",
       "\n",
       "    .dataframe tbody tr th {\n",
       "        vertical-align: top;\n",
       "    }\n",
       "\n",
       "    .dataframe thead th {\n",
       "        text-align: right;\n",
       "    }\n",
       "</style>\n",
       "<table border=\"1\" class=\"dataframe\">\n",
       "  <thead>\n",
       "    <tr style=\"text-align: right;\">\n",
       "      <th></th>\n",
       "      <th>volume</th>\n",
       "      <th>price_usd</th>\n",
       "      <th>price_btc</th>\n",
       "      <th>market_cap</th>\n",
       "      <th>capitalization_change_1_day</th>\n",
       "      <th>USD_price_change_1_day</th>\n",
       "      <th>BTC_price_change_1_day</th>\n",
       "      <th>crypto_name</th>\n",
       "      <th>crypto_type</th>\n",
       "      <th>ticker</th>\n",
       "      <th>max_supply</th>\n",
       "      <th>site_url</th>\n",
       "      <th>github_url</th>\n",
       "      <th>minable</th>\n",
       "      <th>platform_name</th>\n",
       "      <th>industry_name</th>\n",
       "    </tr>\n",
       "    <tr>\n",
       "      <th>trade_date</th>\n",
       "      <th></th>\n",
       "      <th></th>\n",
       "      <th></th>\n",
       "      <th></th>\n",
       "      <th></th>\n",
       "      <th></th>\n",
       "      <th></th>\n",
       "      <th></th>\n",
       "      <th></th>\n",
       "      <th></th>\n",
       "      <th></th>\n",
       "      <th></th>\n",
       "      <th></th>\n",
       "      <th></th>\n",
       "      <th></th>\n",
       "      <th></th>\n",
       "    </tr>\n",
       "  </thead>\n",
       "  <tbody>\n",
       "    <tr>\n",
       "      <th>2016-01-01</th>\n",
       "      <td>36278900.0</td>\n",
       "      <td>434.33</td>\n",
       "      <td>1.0</td>\n",
       "      <td>6.529300e+09</td>\n",
       "      <td>0.000000</td>\n",
       "      <td>0.000000</td>\n",
       "      <td>0.0</td>\n",
       "      <td>Bitcoin</td>\n",
       "      <td>0.0</td>\n",
       "      <td>BTC</td>\n",
       "      <td>21000000.0</td>\n",
       "      <td>https://bitcoin.org/</td>\n",
       "      <td>https://github.com/bitcoin/</td>\n",
       "      <td>1.0</td>\n",
       "      <td>NaN</td>\n",
       "      <td>Proof of Work (PoW)</td>\n",
       "    </tr>\n",
       "    <tr>\n",
       "      <th>2016-01-02</th>\n",
       "      <td>30096600.0</td>\n",
       "      <td>433.44</td>\n",
       "      <td>1.0</td>\n",
       "      <td>6.517390e+09</td>\n",
       "      <td>-0.001824</td>\n",
       "      <td>-0.002049</td>\n",
       "      <td>0.0</td>\n",
       "      <td>Bitcoin</td>\n",
       "      <td>0.0</td>\n",
       "      <td>BTC</td>\n",
       "      <td>21000000.0</td>\n",
       "      <td>https://bitcoin.org/</td>\n",
       "      <td>https://github.com/bitcoin/</td>\n",
       "      <td>1.0</td>\n",
       "      <td>NaN</td>\n",
       "      <td>Proof of Work (PoW)</td>\n",
       "    </tr>\n",
       "    <tr>\n",
       "      <th>2016-01-03</th>\n",
       "      <td>39633800.0</td>\n",
       "      <td>430.01</td>\n",
       "      <td>1.0</td>\n",
       "      <td>6.467430e+09</td>\n",
       "      <td>-0.007666</td>\n",
       "      <td>-0.007913</td>\n",
       "      <td>0.0</td>\n",
       "      <td>Bitcoin</td>\n",
       "      <td>0.0</td>\n",
       "      <td>BTC</td>\n",
       "      <td>21000000.0</td>\n",
       "      <td>https://bitcoin.org/</td>\n",
       "      <td>https://github.com/bitcoin/</td>\n",
       "      <td>1.0</td>\n",
       "      <td>NaN</td>\n",
       "      <td>Proof of Work (PoW)</td>\n",
       "    </tr>\n",
       "    <tr>\n",
       "      <th>2016-01-04</th>\n",
       "      <td>38477500.0</td>\n",
       "      <td>433.09</td>\n",
       "      <td>1.0</td>\n",
       "      <td>6.515713e+09</td>\n",
       "      <td>0.007466</td>\n",
       "      <td>0.007163</td>\n",
       "      <td>0.0</td>\n",
       "      <td>Bitcoin</td>\n",
       "      <td>0.0</td>\n",
       "      <td>BTC</td>\n",
       "      <td>21000000.0</td>\n",
       "      <td>https://bitcoin.org/</td>\n",
       "      <td>https://github.com/bitcoin/</td>\n",
       "      <td>1.0</td>\n",
       "      <td>NaN</td>\n",
       "      <td>Proof of Work (PoW)</td>\n",
       "    </tr>\n",
       "    <tr>\n",
       "      <th>2016-01-05</th>\n",
       "      <td>34522600.0</td>\n",
       "      <td>431.96</td>\n",
       "      <td>1.0</td>\n",
       "      <td>6.500393e+09</td>\n",
       "      <td>-0.002351</td>\n",
       "      <td>-0.002609</td>\n",
       "      <td>0.0</td>\n",
       "      <td>Bitcoin</td>\n",
       "      <td>0.0</td>\n",
       "      <td>BTC</td>\n",
       "      <td>21000000.0</td>\n",
       "      <td>https://bitcoin.org/</td>\n",
       "      <td>https://github.com/bitcoin/</td>\n",
       "      <td>1.0</td>\n",
       "      <td>NaN</td>\n",
       "      <td>Proof of Work (PoW)</td>\n",
       "    </tr>\n",
       "  </tbody>\n",
       "</table>\n",
       "</div>"
      ],
      "text/plain": [
       "                volume  price_usd  price_btc    market_cap  \\\n",
       "trade_date                                                   \n",
       "2016-01-01  36278900.0     434.33        1.0  6.529300e+09   \n",
       "2016-01-02  30096600.0     433.44        1.0  6.517390e+09   \n",
       "2016-01-03  39633800.0     430.01        1.0  6.467430e+09   \n",
       "2016-01-04  38477500.0     433.09        1.0  6.515713e+09   \n",
       "2016-01-05  34522600.0     431.96        1.0  6.500393e+09   \n",
       "\n",
       "            capitalization_change_1_day  USD_price_change_1_day  \\\n",
       "trade_date                                                        \n",
       "2016-01-01                     0.000000                0.000000   \n",
       "2016-01-02                    -0.001824               -0.002049   \n",
       "2016-01-03                    -0.007666               -0.007913   \n",
       "2016-01-04                     0.007466                0.007163   \n",
       "2016-01-05                    -0.002351               -0.002609   \n",
       "\n",
       "            BTC_price_change_1_day crypto_name  crypto_type ticker  \\\n",
       "trade_date                                                           \n",
       "2016-01-01                     0.0     Bitcoin          0.0    BTC   \n",
       "2016-01-02                     0.0     Bitcoin          0.0    BTC   \n",
       "2016-01-03                     0.0     Bitcoin          0.0    BTC   \n",
       "2016-01-04                     0.0     Bitcoin          0.0    BTC   \n",
       "2016-01-05                     0.0     Bitcoin          0.0    BTC   \n",
       "\n",
       "            max_supply              site_url                   github_url  \\\n",
       "trade_date                                                                  \n",
       "2016-01-01  21000000.0  https://bitcoin.org/  https://github.com/bitcoin/   \n",
       "2016-01-02  21000000.0  https://bitcoin.org/  https://github.com/bitcoin/   \n",
       "2016-01-03  21000000.0  https://bitcoin.org/  https://github.com/bitcoin/   \n",
       "2016-01-04  21000000.0  https://bitcoin.org/  https://github.com/bitcoin/   \n",
       "2016-01-05  21000000.0  https://bitcoin.org/  https://github.com/bitcoin/   \n",
       "\n",
       "            minable platform_name        industry_name  \n",
       "trade_date                                              \n",
       "2016-01-01      1.0           NaN  Proof of Work (PoW)  \n",
       "2016-01-02      1.0           NaN  Proof of Work (PoW)  \n",
       "2016-01-03      1.0           NaN  Proof of Work (PoW)  \n",
       "2016-01-04      1.0           NaN  Proof of Work (PoW)  \n",
       "2016-01-05      1.0           NaN  Proof of Work (PoW)  "
      ]
     },
     "execution_count": 2,
     "metadata": {},
     "output_type": "execute_result"
    }
   ],
   "source": [
    "# Filter crypto data\n",
    "file_loc = path + '\\\\Datasets\\\\crypto_tradinds.csv' # File location\n",
    "file = pd.read_csv(file_loc)\n",
    "file = file.set_index('trade_date')\n",
    "currency_types = file['crypto_name'].unique()\n",
    "currency_array = []\n",
    "for c in currency_types:\n",
    "    currency = file[file['crypto_name'] == c]\n",
    "    currency_array.append(currency)\n",
    "file.head()"
   ]
  },
  {
   "cell_type": "code",
   "execution_count": 4,
   "metadata": {},
   "outputs": [
    {
     "data": {
      "text/html": [
       "<div>\n",
       "<style scoped>\n",
       "    .dataframe tbody tr th:only-of-type {\n",
       "        vertical-align: middle;\n",
       "    }\n",
       "\n",
       "    .dataframe tbody tr th {\n",
       "        vertical-align: top;\n",
       "    }\n",
       "\n",
       "    .dataframe thead th {\n",
       "        text-align: right;\n",
       "    }\n",
       "</style>\n",
       "<table border=\"1\" class=\"dataframe\">\n",
       "  <thead>\n",
       "    <tr style=\"text-align: right;\">\n",
       "      <th></th>\n",
       "      <th>Category: All categories</th>\n",
       "    </tr>\n",
       "  </thead>\n",
       "  <tbody>\n",
       "    <tr>\n",
       "      <th>Week</th>\n",
       "      <td>Bitcoin: (Worldwide)</td>\n",
       "    </tr>\n",
       "    <tr>\n",
       "      <th>2016-01-03</th>\n",
       "      <td>3</td>\n",
       "    </tr>\n",
       "    <tr>\n",
       "      <th>2016-01-10</th>\n",
       "      <td>3</td>\n",
       "    </tr>\n",
       "    <tr>\n",
       "      <th>2016-01-17</th>\n",
       "      <td>3</td>\n",
       "    </tr>\n",
       "    <tr>\n",
       "      <th>2016-01-24</th>\n",
       "      <td>3</td>\n",
       "    </tr>\n",
       "  </tbody>\n",
       "</table>\n",
       "</div>"
      ],
      "text/plain": [
       "           Category: All categories\n",
       "Week           Bitcoin: (Worldwide)\n",
       "2016-01-03                        3\n",
       "2016-01-10                        3\n",
       "2016-01-17                        3\n",
       "2016-01-24                        3"
      ]
     },
     "execution_count": 4,
     "metadata": {},
     "output_type": "execute_result"
    }
   ],
   "source": [
    "# Bitcoin Google searches\n",
    "word_searches = path + \"\\\\Data Analysis\\\\1. Crypto_trade-in\\\\multiTimeline.csv\"\n",
    "words = pd.read_csv(word_searches)\n",
    "words.head()"
   ]
  },
  {
   "cell_type": "markdown",
   "metadata": {},
   "source": [
    "To identify the contribution of the ups and downs of bitcoin we need to explore diverse trends of unique variables. The analysis of the variables can range from both inside or outside the dataset inorder to gain a broad understanding of volatility of crypto-currencies."
   ]
  },
  {
   "cell_type": "code",
   "execution_count": 5,
   "metadata": {},
   "outputs": [
    {
     "data": {
      "text/html": [
       "<div>\n",
       "<style scoped>\n",
       "    .dataframe tbody tr th:only-of-type {\n",
       "        vertical-align: middle;\n",
       "    }\n",
       "\n",
       "    .dataframe tbody tr th {\n",
       "        vertical-align: top;\n",
       "    }\n",
       "\n",
       "    .dataframe thead th {\n",
       "        text-align: right;\n",
       "    }\n",
       "</style>\n",
       "<table border=\"1\" class=\"dataframe\">\n",
       "  <thead>\n",
       "    <tr style=\"text-align: right;\">\n",
       "      <th></th>\n",
       "      <th>price_usd</th>\n",
       "      <th>price_usd</th>\n",
       "    </tr>\n",
       "    <tr>\n",
       "      <th>trade_date</th>\n",
       "      <th></th>\n",
       "      <th></th>\n",
       "    </tr>\n",
       "  </thead>\n",
       "  <tbody>\n",
       "    <tr>\n",
       "      <th>2016-01-01</th>\n",
       "      <td>434.33</td>\n",
       "      <td>0.948024</td>\n",
       "    </tr>\n",
       "    <tr>\n",
       "      <th>2016-01-02</th>\n",
       "      <td>433.44</td>\n",
       "      <td>0.937124</td>\n",
       "    </tr>\n",
       "    <tr>\n",
       "      <th>2016-01-03</th>\n",
       "      <td>430.01</td>\n",
       "      <td>0.971905</td>\n",
       "    </tr>\n",
       "    <tr>\n",
       "      <th>2016-01-04</th>\n",
       "      <td>433.09</td>\n",
       "      <td>0.954480</td>\n",
       "    </tr>\n",
       "    <tr>\n",
       "      <th>2016-01-05</th>\n",
       "      <td>431.96</td>\n",
       "      <td>0.950176</td>\n",
       "    </tr>\n",
       "  </tbody>\n",
       "</table>\n",
       "</div>"
      ],
      "text/plain": [
       "            price_usd  price_usd\n",
       "trade_date                      \n",
       "2016-01-01     434.33   0.948024\n",
       "2016-01-02     433.44   0.937124\n",
       "2016-01-03     430.01   0.971905\n",
       "2016-01-04     433.09   0.954480\n",
       "2016-01-05     431.96   0.950176"
      ]
     },
     "execution_count": 5,
     "metadata": {},
     "output_type": "execute_result"
    }
   ],
   "source": [
    "# Trend of bitcoin between 2016 and 2020\n",
    "warnings.filterwarnings('ignore')\n",
    "prices = pd.concat([currency_array[0]['price_usd'], currency_array[1]['price_usd']], axis=1).reindex(currency_array[0].index)\n",
    "prices.head()"
   ]
  },
  {
   "cell_type": "code",
   "execution_count": 6,
   "metadata": {},
   "outputs": [
    {
     "data": {
      "text/plain": [
       "[<matplotlib.lines.Line2D at 0x2104448bd68>]"
      ]
     },
     "execution_count": 6,
     "metadata": {},
     "output_type": "execute_result"
    },
    {
     "data": {
      "image/png": "[encoded data removed]",
      "text/plain": [
       "<Figure size 432x288 with 1 Axes>"
      ]
     },
     "metadata": {
      "needs_background": "light"
     },
     "output_type": "display_data"
    }
   ],
   "source": [
    "crypto_0 = currency_array[1] # Etherium\n",
    "price_0 = crypto_0['price_usd']\n",
    "plt.plot(price_0)"
   ]
  },
  {
   "cell_type": "code",
   "execution_count": 7,
   "metadata": {},
   "outputs": [
    {
     "data": {
      "text/plain": [
       "[<matplotlib.lines.Line2D at 0x21044ff1940>]"
      ]
     },
     "execution_count": 7,
     "metadata": {},
     "output_type": "execute_result"
    },
    {
     "data": {
      "image/png": "[encoded data removed]",
      "text/plain": [
       "<Figure size 432x288 with 1 Axes>"
      ]
     },
     "metadata": {
      "needs_background": "light"
     },
     "output_type": "display_data"
    }
   ],
   "source": [
    "crypto_1 = currency_array[2] # Other crypto-currency\n",
    "price_1 = crypto_1['price_usd']\n",
    "plt.plot(price_1)"
   ]
  },
  {
   "cell_type": "code",
   "execution_count": null,
   "metadata": {},
   "outputs": [],
   "source": []
  }
 ],
 "metadata": {
  "kernelspec": {
   "display_name": "Python 3",
   "language": "python",
   "name": "python3"
  },
  "language_info": {
   "codemirror_mode": {
    "name": "ipython",
    "version": 3
   },
   "file_extension": ".py",
   "mimetype": "text/x-python",
   "name": "python",
   "nbconvert_exporter": "python",
   "pygments_lexer": "ipython3",
   "version": "3.7.3"
  }
 },
 "nbformat": 4,
 "nbformat_minor": 2
}
